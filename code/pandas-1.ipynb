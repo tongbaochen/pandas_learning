{
 "cells": [
  {
   "cell_type": "code",
   "execution_count": 41,
   "metadata": {
    "scrolled": true
   },
   "outputs": [
    {
     "name": "stdout",
     "output_type": "stream",
     "text": [
      "2013-01-02    1\n",
      "2013-01-03    2\n",
      "2013-01-04    3\n",
      "2013-01-05    4\n",
      "2013-01-06    5\n",
      "2013-01-07    6\n",
      "Freq: D, dtype: int64\n",
      "                   A         B         C         D    F   E\n",
      "2013-01-01  0.972799 -0.869200 -1.176022  0.333874  NaN NaN\n",
      "2013-01-02  1.498085 -1.505245  0.940970 -0.255760  1.0 NaN\n",
      "2013-01-03 -0.174194  0.776188 -0.026346  1.196347  2.0 NaN\n",
      "2013-01-04  0.551976 -0.763770 -0.840493 -0.350331  3.0 NaN\n",
      "                   A         B         C         D    F    E\n",
      "2013-01-01  0.972799 -0.869200 -1.176022  0.333874  NaN  2.0\n",
      "2013-01-02  1.498085 -1.505245  0.940970 -0.255760  1.0  1.0\n",
      "2013-01-03 -0.174194  0.776188 -0.026346  1.196347  2.0  NaN\n",
      "2013-01-04  0.551976 -0.763770 -0.840493 -0.350331  3.0  NaN\n"
     ]
    }
   ],
   "source": [
    "import pandas as pd\n",
    "import numpy as np\n",
    "import matplotlib.pyplot as plt\n",
    "# Creating a Series by passing a list of values, letting pandas create a default integer inde\n",
    "s = pd.Series([1,3,5,np.nan,6,8])\n",
    "# print (s)\n",
    "# Creating a DataFrame by passing a numpy array, with a datetime index and labeled columns:\n",
    "dates = pd.date_range('20130101',periods=6)\n",
    "# print (dates)\n",
    "# Creating a DataFrame by passing a numpy array, with a datetime index and labeled columns:\n",
    "df = pd.DataFrame(np.random.randn(6,4),index = dates,columns =list(\"ABCD\"))\n",
    "# print (df)\n",
    "# Creating a DataFrame by passing a dict of objects that can be converted to series-like.\n",
    "df2 = pd.DataFrame({ 'A' : 1.,\n",
    "                    'B' : pd.Timestamp('20130102'),\n",
    "                    'C' : pd.Series(2,index=list(range(4)),dtype='float32'),\n",
    "                     'D' : np.array([3] * 4,dtype='int32'),\n",
    "                      'E' : pd.Categorical([\"test\",\"train\",\"test\",\"train\"]),\n",
    "                      'F' : 'foo' })\n",
    "# print (df2)\n",
    "# print (df2.dtypes)\n",
    "# print (df.head())\n",
    "# print (df.tail(3))\n",
    "# print (df.index)\n",
    "# print (df.columns)\n",
    "# print (df.values)\n",
    "# print (df.describe())\n",
    "# print (df.T)\n",
    "# print (df.sort_index(axis=0,ascending = False))\n",
    "# print (df.sort_index(axis = 1,ascending = False))\n",
    "# print (df.sort_values(by='B'))\n",
    "# print(df['A'])\n",
    "# print(df[0:3])\n",
    "df.loc[dates[0]]#不太懂这个语法是什么意思\n",
    "s1 = pd.Series([1,2,3,4,5,6],index= pd.date_range('20130102', periods=6))\n",
    "print (s1)\n",
    "df['F']=s1\n",
    "df1 = df.reindex(index = dates[0:4],columns= list(df.columns)+['E'])\n",
    "print (df1)\n",
    "#包含了起始位置，\n",
    "df1.loc[dates[0]:dates[1], 'E'] = 1\n",
    "#不包含结束位置\n",
    "df1.loc[0:1, 'E'] = 2\n",
    "print (df1)\n",
    "\n",
    "\n",
    "\n",
    "\n",
    "\n",
    "\n",
    "\n",
    "\n",
    "\n"
   ]
  }
 ],
 "metadata": {
  "kernelspec": {
   "display_name": "Python 3",
   "language": "python",
   "name": "python3"
  },
  "language_info": {
   "codemirror_mode": {
    "name": "ipython",
    "version": 3
   },
   "file_extension": ".py",
   "mimetype": "text/x-python",
   "name": "python",
   "nbconvert_exporter": "python",
   "pygments_lexer": "ipython3",
   "version": "3.6.3"
  }
 },
 "nbformat": 4,
 "nbformat_minor": 2
}
